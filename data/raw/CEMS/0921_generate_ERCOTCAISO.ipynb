{
 "cells": [
  {
   "cell_type": "code",
   "execution_count": 1,
   "metadata": {},
   "outputs": [],
   "source": [
    "\"\"\"\n",
    "In this notebook, we generate the raw files for CAISO and ERCOT by year\n",
    "\"\"\"\n",
    "\n",
    "import pandas as pd\n",
    "import numpy as np"
   ]
  },
  {
   "cell_type": "code",
   "execution_count": 6,
   "metadata": {},
   "outputs": [
    {
     "name": "stderr",
     "output_type": "stream",
     "text": [
      "/var/folders/v9/zhvyqdfn1n7d3v6cwvmxqh7c0000gn/T/ipykernel_92496/2650014913.py:45: DtypeWarning: Columns (3,4,11,13,15,17,19,21,23,25,27,28,29,30) have mixed types. Specify dtype option on import or set low_memory=False.\n",
      "  df = pd.read_csv(file_path)\n",
      "/var/folders/v9/zhvyqdfn1n7d3v6cwvmxqh7c0000gn/T/ipykernel_92496/2650014913.py:45: DtypeWarning: Columns (3,4,11,13,15,17,25,27,28,29,30) have mixed types. Specify dtype option on import or set low_memory=False.\n",
      "  df = pd.read_csv(file_path)\n"
     ]
    },
    {
     "name": "stdout",
     "output_type": "stream",
     "text": [
      "Saved combined data for 2018 to /Users/dhruvsuri/Code/US_emissions_impacts/data/fig1/emissions-hourly-2018-combined-ERCOT.csv\n"
     ]
    },
    {
     "name": "stderr",
     "output_type": "stream",
     "text": [
      "/var/folders/v9/zhvyqdfn1n7d3v6cwvmxqh7c0000gn/T/ipykernel_92496/2650014913.py:45: DtypeWarning: Columns (3,4,11,13,15,17,25,27,28,29,30) have mixed types. Specify dtype option on import or set low_memory=False.\n",
      "  df = pd.read_csv(file_path)\n",
      "/var/folders/v9/zhvyqdfn1n7d3v6cwvmxqh7c0000gn/T/ipykernel_92496/2650014913.py:45: DtypeWarning: Columns (3,4,11,13,15,17,25,27,28,29,30) have mixed types. Specify dtype option on import or set low_memory=False.\n",
      "  df = pd.read_csv(file_path)\n"
     ]
    },
    {
     "name": "stdout",
     "output_type": "stream",
     "text": [
      "Saved combined data for 2019 to /Users/dhruvsuri/Code/US_emissions_impacts/data/fig1/emissions-hourly-2019-combined-ERCOT.csv\n"
     ]
    },
    {
     "name": "stderr",
     "output_type": "stream",
     "text": [
      "/var/folders/v9/zhvyqdfn1n7d3v6cwvmxqh7c0000gn/T/ipykernel_92496/2650014913.py:45: DtypeWarning: Columns (3,4,11,13,15,17,25,27,28,29,30) have mixed types. Specify dtype option on import or set low_memory=False.\n",
      "  df = pd.read_csv(file_path)\n",
      "/var/folders/v9/zhvyqdfn1n7d3v6cwvmxqh7c0000gn/T/ipykernel_92496/2650014913.py:45: DtypeWarning: Columns (3,4,11,13,15,17,25,27,28,29,30) have mixed types. Specify dtype option on import or set low_memory=False.\n",
      "  df = pd.read_csv(file_path)\n"
     ]
    },
    {
     "name": "stdout",
     "output_type": "stream",
     "text": [
      "Saved combined data for 2020 to /Users/dhruvsuri/Code/US_emissions_impacts/data/fig1/emissions-hourly-2020-combined-ERCOT.csv\n"
     ]
    },
    {
     "name": "stderr",
     "output_type": "stream",
     "text": [
      "/var/folders/v9/zhvyqdfn1n7d3v6cwvmxqh7c0000gn/T/ipykernel_92496/2650014913.py:45: DtypeWarning: Columns (3,4,11,13,15,17,25,27,28,29,30) have mixed types. Specify dtype option on import or set low_memory=False.\n",
      "  df = pd.read_csv(file_path)\n",
      "/var/folders/v9/zhvyqdfn1n7d3v6cwvmxqh7c0000gn/T/ipykernel_92496/2650014913.py:45: DtypeWarning: Columns (3,4,11,13,15,17,25,27,28,29,30) have mixed types. Specify dtype option on import or set low_memory=False.\n",
      "  df = pd.read_csv(file_path)\n"
     ]
    },
    {
     "name": "stdout",
     "output_type": "stream",
     "text": [
      "Saved combined data for 2021 to /Users/dhruvsuri/Code/US_emissions_impacts/data/fig1/emissions-hourly-2021-combined-ERCOT.csv\n"
     ]
    },
    {
     "name": "stderr",
     "output_type": "stream",
     "text": [
      "/var/folders/v9/zhvyqdfn1n7d3v6cwvmxqh7c0000gn/T/ipykernel_92496/2650014913.py:45: DtypeWarning: Columns (3,4,11,13,15,17,25,27,28,29,30) have mixed types. Specify dtype option on import or set low_memory=False.\n",
      "  df = pd.read_csv(file_path)\n",
      "/var/folders/v9/zhvyqdfn1n7d3v6cwvmxqh7c0000gn/T/ipykernel_92496/2650014913.py:45: DtypeWarning: Columns (3,4,11,13,15,17,25,27,28,29,30) have mixed types. Specify dtype option on import or set low_memory=False.\n",
      "  df = pd.read_csv(file_path)\n"
     ]
    },
    {
     "name": "stdout",
     "output_type": "stream",
     "text": [
      "Saved combined data for 2022 to /Users/dhruvsuri/Code/US_emissions_impacts/data/fig1/emissions-hourly-2022-combined-ERCOT.csv\n"
     ]
    },
    {
     "name": "stderr",
     "output_type": "stream",
     "text": [
      "/var/folders/v9/zhvyqdfn1n7d3v6cwvmxqh7c0000gn/T/ipykernel_92496/2650014913.py:45: DtypeWarning: Columns (3,4,11,13,15,17,19,25,27,28,29,30) have mixed types. Specify dtype option on import or set low_memory=False.\n",
      "  df = pd.read_csv(file_path)\n",
      "/var/folders/v9/zhvyqdfn1n7d3v6cwvmxqh7c0000gn/T/ipykernel_92496/2650014913.py:45: DtypeWarning: Columns (3,4,11,13,15,17,25,27,28,29,30) have mixed types. Specify dtype option on import or set low_memory=False.\n",
      "  df = pd.read_csv(file_path)\n"
     ]
    },
    {
     "name": "stdout",
     "output_type": "stream",
     "text": [
      "Saved combined data for 2023 to /Users/dhruvsuri/Code/US_emissions_impacts/data/fig1/emissions-hourly-2023-combined-ERCOT.csv\n"
     ]
    }
   ],
   "source": [
    "import os\n",
    "import pandas as pd\n",
    "\n",
    "# Define paths\n",
    "input_folder = '/Users/dhruvsuri/Code/US_emissions_impacts/data/CEMS/ERCOT'\n",
    "output_folder = '/Users/dhruvsuri/Code/US_emissions_impacts/data/fig1'\n",
    "\n",
    "ercot_facility_ids = [\n",
    "    55501, 10298, 10418, 60264, 65535, 4939, 55311, 55168, 55327, 55172, 64383, 55053, 3561, 66561, 52176, 7762, 58378, 3460, 56806, 10184, \n",
    "    58151, 56708, 60460, 55299, 55187, 65536, 65537, 6178, 56350, 60122, 50475, 55206, 50026, 65538, 3548, 8063, 55464, 61643, 65539, 58471, \n",
    "    56233, 55223, 10261, 10436, 10692, 10554, 55480, 65540, 52120, 56152, 59145, 55226, 66595, 65541, 65542, 3490, 3464, 55086, 55153, 50118, \n",
    "    3491, 55144, 66612, 66613, 65261, 65262, 65263, 66593, 65264, 65265, 66549, 66550, 65266, 66563, 66564, 65267, 65268, 65269, 65274, 65026, \n",
    "    66562, 66594, 66565, 66567, 66566, 63335, 50043, 55313, 7097, 6181, 55230, 55052, 54817, 3452, 55097, 55365, 3439, 3609, 298, 55154, 55123, \n",
    "    65372, 6146, 65543, 55091, 57322, 3492, 3453, 65544, 62762, 60910, 3441, 3611, 6180, 55215, 50815, 66614, 54676, 50109, 55047, 3630, 3494, 60459, \n",
    "    4195, 52132, 66596, 58069, 56349, 3628, 66597, 3576, 58005, 59391, 50054, 65573, 55137, 56374, 6243, 3631, 6179, 7325, 6183, 7900, 56611, 65574, \n",
    "    10167, 50304, 50127, 3559, 3601, 62548, 59938, 55470, 65575, 4266, 55390,  65576, 3504, 55015, 4937, 3469, 57504, 60468, 58001, 55062, 55132, 52088, \n",
    "    50229, 59381, 10243, 63688, 3507, 65578, 7030, 50150, 3612, 50121, 65579, 61241, 61242, 61966, 3443, 10790, 65580, 54520, 3470, 64813, 64814, 64815, \n",
    "    64816, 64829, 64883, 64884, 64769, 64770, 64885, 64886, 64771, 64887, 64888, 64772, 64889, 64890, 64891, 64893, 64895, 64896, 64897, 64898, 64899, 64900, \n",
    "    64901, 64902, 64922, 64923, 64924, 64925, 64926, 64933, 64934, 64935, 64936, 64937, 64938, 64939, 64940, 64773, 64774, 64942, 64775, 64943, 64944, 64776, \n",
    "    64945, 64946, 64777, 64778, 64791, 64792, 64947, 64948, 64949, 64950, 64951, 64952, 64793, 64953, 64794, 64954, 64955, 64956, 64795, 64796, 64957, 64797, \n",
    "    64958, 64959, 64960, 64798, 64961, 64962, 64799, 64963, 64800, 64801, 64802, 64803, 64804, 64805, 64806, 64807, 64808, 64809, 64810, 64812, 54330, 65581, \n",
    "    56674, 55320, 55139, 59812, 54364\n",
    "]\n",
    "\n",
    "# Ensure the output folder exists\n",
    "os.makedirs(output_folder, exist_ok=True)\n",
    "\n",
    "# Define the years and states\n",
    "years = ['2018', '2019', '2020', '2021', '2022', '2023']\n",
    "states = ['tx', 'ok']\n",
    "\n",
    "# Loop through each year\n",
    "for year in years:\n",
    "    # Create a list to store dataframes for the current year\n",
    "    df_list = []\n",
    "    \n",
    "    # Loop through each state\n",
    "    for state in states:\n",
    "        # Construct the file path for each state's CSV for the current year\n",
    "        file_path = os.path.join(input_folder, f'emissions-hourly-{year}-{state}.csv')\n",
    "        \n",
    "        # Check if the file exists (to avoid errors if a file is missing)\n",
    "        if os.path.exists(file_path):\n",
    "            # Read the CSV into a DataFrame\n",
    "            df = pd.read_csv(file_path)\n",
    "            \n",
    "            # Append the dataframe to the list\n",
    "            df_list.append(df)\n",
    "    \n",
    "    # Concatenate all DataFrames for the current year\n",
    "    if df_list:\n",
    "        df_combined = pd.concat(df_list)\n",
    "\n",
    "        df_combined_filtered = df_combined[df_combined['Facility ID'].isin(ercot_facility_ids)]\n",
    "        \n",
    "        # Save the combined dataframe as a new CSV in the output folder\n",
    "        output_path = os.path.join(output_folder, f'emissions-hourly-{year}-combined-ERCOT.csv')\n",
    "        df_combined_filtered.to_csv(output_path, index=False)\n",
    "        print(f\"Saved combined data for {year} to {output_path}\")\n",
    "    else:\n",
    "        print(f\"No files found for {year}\")"
   ]
  },
  {
   "cell_type": "code",
   "execution_count": 7,
   "metadata": {},
   "outputs": [
    {
     "name": "stderr",
     "output_type": "stream",
     "text": [
      "/var/folders/v9/zhvyqdfn1n7d3v6cwvmxqh7c0000gn/T/ipykernel_92496/2774049380.py:53: DtypeWarning: Columns (3,4,25,27,28,29) have mixed types. Specify dtype option on import or set low_memory=False.\n",
      "  df = pd.read_csv(file_path)\n",
      "/var/folders/v9/zhvyqdfn1n7d3v6cwvmxqh7c0000gn/T/ipykernel_92496/2774049380.py:53: DtypeWarning: Columns (3,4,25,27,29,30) have mixed types. Specify dtype option on import or set low_memory=False.\n",
      "  df = pd.read_csv(file_path)\n"
     ]
    },
    {
     "name": "stdout",
     "output_type": "stream",
     "text": [
      "Saved combined data for 2018 to /Users/dhruvsuri/Code/US_emissions_impacts/data/fig1/emissions-hourly-2018-combined-CAISO.csv\n"
     ]
    },
    {
     "name": "stderr",
     "output_type": "stream",
     "text": [
      "/var/folders/v9/zhvyqdfn1n7d3v6cwvmxqh7c0000gn/T/ipykernel_92496/2774049380.py:53: DtypeWarning: Columns (3,4,25,27,28,29) have mixed types. Specify dtype option on import or set low_memory=False.\n",
      "  df = pd.read_csv(file_path)\n",
      "/var/folders/v9/zhvyqdfn1n7d3v6cwvmxqh7c0000gn/T/ipykernel_92496/2774049380.py:53: DtypeWarning: Columns (3,4,25,27,29,30) have mixed types. Specify dtype option on import or set low_memory=False.\n",
      "  df = pd.read_csv(file_path)\n"
     ]
    },
    {
     "name": "stdout",
     "output_type": "stream",
     "text": [
      "Saved combined data for 2019 to /Users/dhruvsuri/Code/US_emissions_impacts/data/fig1/emissions-hourly-2019-combined-CAISO.csv\n"
     ]
    },
    {
     "name": "stderr",
     "output_type": "stream",
     "text": [
      "/var/folders/v9/zhvyqdfn1n7d3v6cwvmxqh7c0000gn/T/ipykernel_92496/2774049380.py:53: DtypeWarning: Columns (3,4,11,13,15,17,19,21,23,25,27,28,29) have mixed types. Specify dtype option on import or set low_memory=False.\n",
      "  df = pd.read_csv(file_path)\n",
      "/var/folders/v9/zhvyqdfn1n7d3v6cwvmxqh7c0000gn/T/ipykernel_92496/2774049380.py:53: DtypeWarning: Columns (3,4,25,27,29,30) have mixed types. Specify dtype option on import or set low_memory=False.\n",
      "  df = pd.read_csv(file_path)\n"
     ]
    },
    {
     "name": "stdout",
     "output_type": "stream",
     "text": [
      "Saved combined data for 2020 to /Users/dhruvsuri/Code/US_emissions_impacts/data/fig1/emissions-hourly-2020-combined-CAISO.csv\n"
     ]
    },
    {
     "name": "stderr",
     "output_type": "stream",
     "text": [
      "/var/folders/v9/zhvyqdfn1n7d3v6cwvmxqh7c0000gn/T/ipykernel_92496/2774049380.py:53: DtypeWarning: Columns (3,4,25,27,28,29) have mixed types. Specify dtype option on import or set low_memory=False.\n",
      "  df = pd.read_csv(file_path)\n",
      "/var/folders/v9/zhvyqdfn1n7d3v6cwvmxqh7c0000gn/T/ipykernel_92496/2774049380.py:53: DtypeWarning: Columns (3,4,25,27,29,30) have mixed types. Specify dtype option on import or set low_memory=False.\n",
      "  df = pd.read_csv(file_path)\n"
     ]
    },
    {
     "name": "stdout",
     "output_type": "stream",
     "text": [
      "Saved combined data for 2021 to /Users/dhruvsuri/Code/US_emissions_impacts/data/fig1/emissions-hourly-2021-combined-CAISO.csv\n"
     ]
    },
    {
     "name": "stderr",
     "output_type": "stream",
     "text": [
      "/var/folders/v9/zhvyqdfn1n7d3v6cwvmxqh7c0000gn/T/ipykernel_92496/2774049380.py:53: DtypeWarning: Columns (3,4,25,27,28,29) have mixed types. Specify dtype option on import or set low_memory=False.\n",
      "  df = pd.read_csv(file_path)\n",
      "/var/folders/v9/zhvyqdfn1n7d3v6cwvmxqh7c0000gn/T/ipykernel_92496/2774049380.py:53: DtypeWarning: Columns (3,4,25,27,29,30) have mixed types. Specify dtype option on import or set low_memory=False.\n",
      "  df = pd.read_csv(file_path)\n"
     ]
    },
    {
     "name": "stdout",
     "output_type": "stream",
     "text": [
      "Saved combined data for 2022 to /Users/dhruvsuri/Code/US_emissions_impacts/data/fig1/emissions-hourly-2022-combined-CAISO.csv\n"
     ]
    },
    {
     "name": "stderr",
     "output_type": "stream",
     "text": [
      "/var/folders/v9/zhvyqdfn1n7d3v6cwvmxqh7c0000gn/T/ipykernel_92496/2774049380.py:53: DtypeWarning: Columns (3,4,25,27,28,29) have mixed types. Specify dtype option on import or set low_memory=False.\n",
      "  df = pd.read_csv(file_path)\n",
      "/var/folders/v9/zhvyqdfn1n7d3v6cwvmxqh7c0000gn/T/ipykernel_92496/2774049380.py:53: DtypeWarning: Columns (3,4,25,27,29,30) have mixed types. Specify dtype option on import or set low_memory=False.\n",
      "  df = pd.read_csv(file_path)\n"
     ]
    },
    {
     "name": "stdout",
     "output_type": "stream",
     "text": [
      "Saved combined data for 2023 to /Users/dhruvsuri/Code/US_emissions_impacts/data/fig1/emissions-hourly-2023-combined-CAISO.csv\n"
     ]
    }
   ],
   "source": [
    "import os\n",
    "import pandas as pd\n",
    "\n",
    "# Define paths\n",
    "input_folder = '/Users/dhruvsuri/Code/US_emissions_impacts/data/CEMS/CAISO'\n",
    "output_folder = '/Users/dhruvsuri/Code/US_emissions_impacts/data/fig1'\n",
    "\n",
    "caiso_facility_ids = [\n",
    "    57811, 55184, 315, 62115, 335, 62116, 356, 50748, 63699, 55951, 7450, 57564, 50299, 59800, 66456, \n",
    "    62577, 10684, 65205, 65206, 65208, 65204, 65360, 61154, 61153, 65192, 62573, 63605, 50200, 10650, \n",
    "    56474, 10649, 56346, 65203, 50170, 50622, 62176, 52096, 54296, 56090, 55295, 57580, 52147, 302, \n",
    "    57544, 10262, 55510, 55513, 55508, 55499, 10034, 65202, 65193, 65361, 57460, 57027, 10169, 57573,\n",
    "    56475, 63439, 55934, 10677, 50003, 10175, 56185, 55540, 57714, 56356, 52086, 52083, 50131, 50750,\n",
    "    56532, 65211, 61475, 61476, 61464, 61482, 61474, 55625, 55084, 63701, 50851, 58169, 55512, 52081,\n",
    "    52104, 52082, 58122, 55333, 65200, 54449, 56026, 50493, 55935, 6211, 10776, 57001, 330, 10213,\n",
    "    55950, 55400, 8076, 58168, 65210, 62671, 62704, 62702, 62703, 62705, 60223, 64756, 63704, 63705,\n",
    "    63708, 55538, 63604, 63607, 50270, 10052, 55847, 62575, 57809, 10156, 56476, 61993, 63714, 7231,\n",
    "    55810, 58432, 422, 54749, 55627, 56472, 10115, 56039, 55698, 50541, 55807, 55518, 57977, 50495,\n",
    "    58223, 58300, 246, 63603, 55541, 60224, 63711, 58301, 66142, 66146, 66148, 62699, 58128, 62698,\n",
    "    62701, 58132, 62700, 10042, 59280, 50494, 58100, 10496, 52107, 65199, 55811, 10294, 10405, 63712,\n",
    "    63716, 10720, 55151, 55626, 55542, 66145, 59279, 58302, 54768, 57808, 7451, 57978, 10206, 341,\n",
    "    55748, 55217, 52077, 56239, 56041, 10342, 57483, 57267, 54912, 59802, 58914, 56471, 52076, 50612,\n",
    "    55393, 62459, 10501, 56639, 52169, 56473, 56232, 62697, 260, 358, 50674, 50963, 7449, 10427, \n",
    "    52078, 50850, 58607, 56914, 350, 54477, 55345, 50464, 57585, 59456, 55985, 56803, 58058, 58198,\n",
    "    55656, 50849, 6704, 57555, 59803, 58085, 59457, 62458, 56184, 66458, 56134, 54936, 52109, 56143,\n",
    "    55963, 58297, 58296, 58298, 56467, 54800, 50610, 50865, 50234, 66143, 50061, 10548, 66472, 7232,\n",
    "    60385, 58625, 50864, 59074, 65196, 63715, 10446, 57482, 58585, 56080, 50985, 50752, 50751, 56144,\n",
    "    50537, 60698, 59804, 57557, 55182, 61754, 50134, 52085, 66459, 58303, 58190, 56051, 63717, 63638,\n",
    "    55933, 58619, 57122, 60120, 50064, 50089, 57584, 65191, 50115, 55851, 7436, 58053, 59458, 57515,\n",
    "    57715, 50216, 54447, 65570, 10685, 54410, 55855, 58299, 59805, 52186, 10349, 55813, 55077\n",
    "]\n",
    "\n",
    "# Ensure the output folder exists\n",
    "os.makedirs(output_folder, exist_ok=True)\n",
    "\n",
    "# Define the years and states\n",
    "years = ['2018', '2019', '2020', '2021', '2022', '2023']\n",
    "states = ['ca', 'nv']\n",
    "\n",
    "# Loop through each year\n",
    "for year in years:\n",
    "    # Create a list to store dataframes for the current year\n",
    "    df_list = []\n",
    "    \n",
    "    # Loop through each state\n",
    "    for state in states:\n",
    "        # Construct the file path for each state's CSV for the current year\n",
    "        file_path = os.path.join(input_folder, f'emissions-hourly-{year}-{state}.csv')\n",
    "        \n",
    "        # Check if the file exists (to avoid errors if a file is missing)\n",
    "        if os.path.exists(file_path):\n",
    "            # Read the CSV into a DataFrame\n",
    "            df = pd.read_csv(file_path)\n",
    "            \n",
    "            # Append the dataframe to the list\n",
    "            df_list.append(df)\n",
    "    \n",
    "    # Concatenate all DataFrames for the current year\n",
    "    if df_list:\n",
    "        df_combined = pd.concat(df_list)\n",
    "\n",
    "        df_combined_filtered = df_combined[df_combined['Facility ID'].isin(caiso_facility_ids)]\n",
    "        \n",
    "        # Save the combined dataframe as a new CSV in the output folder\n",
    "        output_path = os.path.join(output_folder, f'emissions-hourly-{year}-combined-CAISO.csv')\n",
    "        df_combined_filtered.to_csv(output_path, index=False)\n",
    "        print(f\"Saved combined data for {year} to {output_path}\")\n",
    "    else:\n",
    "        print(f\"No files found for {year}\")"
   ]
  },
  {
   "cell_type": "code",
   "execution_count": null,
   "metadata": {},
   "outputs": [],
   "source": []
  }
 ],
 "metadata": {
  "kernelspec": {
   "display_name": "base",
   "language": "python",
   "name": "python3"
  },
  "language_info": {
   "codemirror_mode": {
    "name": "ipython",
    "version": 3
   },
   "file_extension": ".py",
   "mimetype": "text/x-python",
   "name": "python",
   "nbconvert_exporter": "python",
   "pygments_lexer": "ipython3",
   "version": "3.12.4"
  }
 },
 "nbformat": 4,
 "nbformat_minor": 2
}
